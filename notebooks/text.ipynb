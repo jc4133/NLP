{
 "cells": [
  {
   "cell_type": "code",
   "execution_count": 15,
   "metadata": {},
   "outputs": [
    {
     "name": "stdout",
     "output_type": "stream",
     "text": [
      " ____            _   _               _ \n",
      "/ ___|  ___  ___| |_(_) ___  _ __   / |\n",
      "\\___ \\ / _ \\/ __| __| |/ _ \\| '_ \\  | |\n",
      " ___) |  __/ (__| |_| | (_) | | | | | |\n",
      "|____/ \\___|\\___|\\__|_|\\___/|_| |_| |_|\n",
      "                                       \n",
      "\n"
     ]
    }
   ],
   "source": [
    "from pyfiglet import Figlet\n",
    "f = Figlet(font = 'standard')\n",
    "print(f.renderText('Section 1'))"
   ]
  }
 ],
 "metadata": {
  "interpreter": {
   "hash": "1e8479639b030b9c4d4725559625eb63631b1e663b9fecf3e88071a842b684dd"
  },
  "kernelspec": {
   "display_name": "Python 3.9.12 ('base')",
   "language": "python",
   "name": "python3"
  },
  "language_info": {
   "codemirror_mode": {
    "name": "ipython",
    "version": 3
   },
   "file_extension": ".py",
   "mimetype": "text/x-python",
   "name": "python",
   "nbconvert_exporter": "python",
   "pygments_lexer": "ipython3",
   "version": "3.9.12"
  },
  "orig_nbformat": 4
 },
 "nbformat": 4,
 "nbformat_minor": 2
}
